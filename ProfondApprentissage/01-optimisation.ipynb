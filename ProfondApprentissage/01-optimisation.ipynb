{
 "cells": [
  {
   "cell_type": "markdown",
   "metadata": {},
   "source": [
    "# Exercice 1 - Optimisation avec autograd\n",
    "\n",
    "Un problème d'optimisation numérique peut être résolu par l'algorithme de descente de gradient.\n",
    "\n",
    "La descente de gradient se base sur l'idée que si une fonction multivariée $F(\\mathbf{x})$ est dérivable au voisinage du point $\\mathbf{a}$, alors $F(\\mathbf{x})$ diminue ''plus rapidement'' si, partant du point  $\\mathbf{a}$, on suit la direction inverse du gradient de $F$ en $\\mathbf{a}$, soit $-\\nabla F(\\mathbf{a})$. Il s'ensuit donc que si :\n",
    "\n",
    "\\begin{equation}\n",
    "\\mathbf{a}_{n+1} = \\mathbf{a}_n-\\alpha\\nabla F(\\mathbf{a}_n)\n",
    "\\end{equation}\n",
    "\n",
    "pour $\\alpha \\in \\mathbb{R}_{+}$ suffisamment petit ($\\alpha$ est aussi appelé taux d'apprentissage), alors  $F(\\mathbf{a_n})\\geq F(\\mathbf{a_{n+1}})$. Autrement dit, le terme $\\alpha\\nabla F(\\mathbf{a})$ est soustrait à $\\mathbf{a}$ pour se diriger vers le minimum. Partant d'un point initial $\\mathbf{x}_0$, on construit donc une séquence de points visités $\\mathbf{x}_0, \\mathbf{x}_1, \\mathbf{x}_2, \\dots$ tels que :\n",
    "\n",
    "\\begin{equation}\n",
    "\\mathbf{x}_{n+1}=\\mathbf{x}_n-\\alpha \\nabla F(\\mathbf{x}_n),\\ n \\ge 0.\n",
    "\\end{equation}\n",
    "\n",
    "Avec la propriété suivante :\n",
    "\n",
    "\\begin{equation}\n",
    "F(\\mathbf{x}_0)\\ge F(\\mathbf{x}_1)\\ge F(\\mathbf{x}_2)\\ge \\cdots\n",
    "\\end{equation}\n",
    "\n",
    "## Application avec un exemple en dimension 2"
   ]
  },
  {
   "cell_type": "code",
   "execution_count": 6,
   "metadata": {},
   "outputs": [
    {
     "ename": "AttributeError",
     "evalue": "module 'matplotlib' has no attribute 'artist'",
     "output_type": "error",
     "traceback": [
      "\u001b[0;31m----------------------------------------------\u001b[0m",
      "\u001b[0;31mAttributeError\u001b[0mTraceback (most recent call last)",
      "\u001b[0;32m<ipython-input-6-736b4452f47d>\u001b[0m in \u001b[0;36m<module>\u001b[0;34m\u001b[0m\n\u001b[1;32m      4\u001b[0m \u001b[0;32mimport\u001b[0m \u001b[0mnumpy\u001b[0m \u001b[0;32mas\u001b[0m \u001b[0mnp\u001b[0m\u001b[0;34m\u001b[0m\u001b[0;34m\u001b[0m\u001b[0m\n\u001b[1;32m      5\u001b[0m \u001b[0;31m# Inclure les fonction d'affichage \"pyplot\" abrégée plt\u001b[0m\u001b[0;34m\u001b[0m\u001b[0;34m\u001b[0m\u001b[0;34m\u001b[0m\u001b[0m\n\u001b[0;32m----> 6\u001b[0;31m \u001b[0;32mfrom\u001b[0m \u001b[0mmatplotlib\u001b[0m \u001b[0;32mimport\u001b[0m \u001b[0mpyplot\u001b[0m \u001b[0;32mas\u001b[0m \u001b[0mplt\u001b[0m\u001b[0;34m\u001b[0m\u001b[0;34m\u001b[0m\u001b[0m\n\u001b[0m\u001b[1;32m      7\u001b[0m \u001b[0;31m# Inclure torch\u001b[0m\u001b[0;34m\u001b[0m\u001b[0;34m\u001b[0m\u001b[0;34m\u001b[0m\u001b[0m\n\u001b[1;32m      8\u001b[0m \u001b[0;32mimport\u001b[0m \u001b[0mtorch\u001b[0m\u001b[0;34m\u001b[0m\u001b[0;34m\u001b[0m\u001b[0m\n",
      "\u001b[0;32m/opt/miniconda/lib/python3.6/site-packages/matplotlib/__init__.py\u001b[0m in \u001b[0;36m<module>\u001b[0;34m\u001b[0m\n\u001b[1;32m   1109\u001b[0m \u001b[0;32mwith\u001b[0m \u001b[0mwarnings\u001b[0m\u001b[0;34m.\u001b[0m\u001b[0mcatch_warnings\u001b[0m\u001b[0;34m(\u001b[0m\u001b[0;34m)\u001b[0m\u001b[0;34m:\u001b[0m\u001b[0;34m\u001b[0m\u001b[0;34m\u001b[0m\u001b[0m\n\u001b[1;32m   1110\u001b[0m     \u001b[0mwarnings\u001b[0m\u001b[0;34m.\u001b[0m\u001b[0msimplefilter\u001b[0m\u001b[0;34m(\u001b[0m\u001b[0;34m\"ignore\"\u001b[0m\u001b[0;34m,\u001b[0m \u001b[0mMatplotlibDeprecationWarning\u001b[0m\u001b[0;34m)\u001b[0m\u001b[0;34m\u001b[0m\u001b[0;34m\u001b[0m\u001b[0m\n\u001b[0;32m-> 1111\u001b[0;31m     \u001b[0mrcParamsOrig\u001b[0m \u001b[0;34m=\u001b[0m \u001b[0mRcParams\u001b[0m\u001b[0;34m(\u001b[0m\u001b[0mrcParams\u001b[0m\u001b[0;34m.\u001b[0m\u001b[0mcopy\u001b[0m\u001b[0;34m(\u001b[0m\u001b[0;34m)\u001b[0m\u001b[0;34m)\u001b[0m\u001b[0;34m\u001b[0m\u001b[0;34m\u001b[0m\u001b[0m\n\u001b[0m\u001b[1;32m   1112\u001b[0m     rcParamsDefault = RcParams([(key, default) for key, (default, converter) in\n\u001b[1;32m   1113\u001b[0m                                 \u001b[0mdefaultParams\u001b[0m\u001b[0;34m.\u001b[0m\u001b[0mitems\u001b[0m\u001b[0;34m(\u001b[0m\u001b[0;34m)\u001b[0m\u001b[0;34m\u001b[0m\u001b[0;34m\u001b[0m\u001b[0m\n",
      "\u001b[0;32m/opt/miniconda/lib/python3.6/site-packages/matplotlib/__init__.py\u001b[0m in \u001b[0;36m__getitem__\u001b[0;34m(self, key)\u001b[0m\n\u001b[1;32m    889\u001b[0m             \u001b[0mval\u001b[0m \u001b[0;34m=\u001b[0m \u001b[0mdict\u001b[0m\u001b[0;34m.\u001b[0m\u001b[0m__getitem__\u001b[0m\u001b[0;34m(\u001b[0m\u001b[0mself\u001b[0m\u001b[0;34m,\u001b[0m \u001b[0mkey\u001b[0m\u001b[0;34m)\u001b[0m\u001b[0;34m\u001b[0m\u001b[0;34m\u001b[0m\u001b[0m\n\u001b[1;32m    890\u001b[0m             \u001b[0;32mif\u001b[0m \u001b[0mval\u001b[0m \u001b[0;32mis\u001b[0m \u001b[0mrcsetup\u001b[0m\u001b[0;34m.\u001b[0m\u001b[0m_auto_backend_sentinel\u001b[0m\u001b[0;34m:\u001b[0m\u001b[0;34m\u001b[0m\u001b[0;34m\u001b[0m\u001b[0m\n\u001b[0;32m--> 891\u001b[0;31m                 \u001b[0;32mfrom\u001b[0m \u001b[0mmatplotlib\u001b[0m \u001b[0;32mimport\u001b[0m \u001b[0mpyplot\u001b[0m \u001b[0;32mas\u001b[0m \u001b[0mplt\u001b[0m\u001b[0;34m\u001b[0m\u001b[0;34m\u001b[0m\u001b[0m\n\u001b[0m\u001b[1;32m    892\u001b[0m                 \u001b[0mplt\u001b[0m\u001b[0;34m.\u001b[0m\u001b[0mswitch_backend\u001b[0m\u001b[0;34m(\u001b[0m\u001b[0mrcsetup\u001b[0m\u001b[0;34m.\u001b[0m\u001b[0m_auto_backend_sentinel\u001b[0m\u001b[0;34m)\u001b[0m\u001b[0;34m\u001b[0m\u001b[0;34m\u001b[0m\u001b[0m\n\u001b[1;32m    893\u001b[0m \u001b[0;34m\u001b[0m\u001b[0m\n",
      "\u001b[0;32m/opt/miniconda/lib/python3.6/site-packages/matplotlib/pyplot.py\u001b[0m in \u001b[0;36m<module>\u001b[0;34m\u001b[0m\n\u001b[1;32m     30\u001b[0m \u001b[0;32mfrom\u001b[0m \u001b[0mcycler\u001b[0m \u001b[0;32mimport\u001b[0m \u001b[0mcycler\u001b[0m\u001b[0;34m\u001b[0m\u001b[0;34m\u001b[0m\u001b[0m\n\u001b[1;32m     31\u001b[0m \u001b[0;32mimport\u001b[0m \u001b[0mmatplotlib\u001b[0m\u001b[0;34m\u001b[0m\u001b[0;34m\u001b[0m\u001b[0m\n\u001b[0;32m---> 32\u001b[0;31m \u001b[0;32mimport\u001b[0m \u001b[0mmatplotlib\u001b[0m\u001b[0;34m.\u001b[0m\u001b[0mcolorbar\u001b[0m\u001b[0;34m\u001b[0m\u001b[0;34m\u001b[0m\u001b[0m\n\u001b[0m\u001b[1;32m     33\u001b[0m \u001b[0;32mimport\u001b[0m \u001b[0mmatplotlib\u001b[0m\u001b[0;34m.\u001b[0m\u001b[0mimage\u001b[0m\u001b[0;34m\u001b[0m\u001b[0;34m\u001b[0m\u001b[0m\n\u001b[1;32m     34\u001b[0m \u001b[0;32mfrom\u001b[0m \u001b[0mmatplotlib\u001b[0m \u001b[0;32mimport\u001b[0m \u001b[0mrcsetup\u001b[0m\u001b[0;34m,\u001b[0m \u001b[0mstyle\u001b[0m\u001b[0;34m\u001b[0m\u001b[0;34m\u001b[0m\u001b[0m\n",
      "\u001b[0;32m/opt/miniconda/lib/python3.6/site-packages/matplotlib/colorbar.py\u001b[0m in \u001b[0;36m<module>\u001b[0;34m\u001b[0m\n\u001b[1;32m     26\u001b[0m \u001b[0;34m\u001b[0m\u001b[0m\n\u001b[1;32m     27\u001b[0m \u001b[0;32mimport\u001b[0m \u001b[0mmatplotlib\u001b[0m \u001b[0;32mas\u001b[0m \u001b[0mmpl\u001b[0m\u001b[0;34m\u001b[0m\u001b[0;34m\u001b[0m\u001b[0m\n\u001b[0;32m---> 28\u001b[0;31m \u001b[0;32mimport\u001b[0m \u001b[0mmatplotlib\u001b[0m\u001b[0;34m.\u001b[0m\u001b[0martist\u001b[0m \u001b[0;32mas\u001b[0m \u001b[0mmartist\u001b[0m\u001b[0;34m\u001b[0m\u001b[0;34m\u001b[0m\u001b[0m\n\u001b[0m\u001b[1;32m     29\u001b[0m \u001b[0;32mimport\u001b[0m \u001b[0mmatplotlib\u001b[0m\u001b[0;34m.\u001b[0m\u001b[0mcbook\u001b[0m \u001b[0;32mas\u001b[0m \u001b[0mcbook\u001b[0m\u001b[0;34m\u001b[0m\u001b[0;34m\u001b[0m\u001b[0m\n\u001b[1;32m     30\u001b[0m \u001b[0;32mimport\u001b[0m \u001b[0mmatplotlib\u001b[0m\u001b[0;34m.\u001b[0m\u001b[0mcollections\u001b[0m \u001b[0;32mas\u001b[0m \u001b[0mcollections\u001b[0m\u001b[0;34m\u001b[0m\u001b[0;34m\u001b[0m\u001b[0m\n",
      "\u001b[0;31mAttributeError\u001b[0m: module 'matplotlib' has no attribute 'artist'"
     ]
    }
   ],
   "source": [
    "# Inclure les fonction d'affichage \"print\"\n",
    "from __future__ import print_function\n",
    "# Inclure numpy abrégé np\n",
    "import numpy as np\n",
    "# Inclure les fonction d'affichage \"pyplot\" abrégée plt\n",
    "from matplotlib import pyplot as plt\n",
    "# Inclure torch\n",
    "import torch\n",
    "\n",
    "# %matplotlib inline"
   ]
  },
  {
   "cell_type": "markdown",
   "metadata": {},
   "source": [
    "**Définition de la fonction \"plot_with_contours\" permettant de visualiser une fonction 2D -> 1D grâce à des contours**"
   ]
  },
  {
   "cell_type": "code",
   "execution_count": null,
   "metadata": {},
   "outputs": [],
   "source": [
    "def plot_with_contours(F):\n",
    "    # Pas spatial pour les vecteurs \n",
    "    delta = 0.1\n",
    "    \n",
    "    # Vecteurs xsteps et ysteps construits à partir du pas delta\n",
    "    xsteps = np.arange(-4., 4., delta)\n",
    "    ysteps = np.arange(-3., 3., delta)\n",
    "    \n",
    "    # Matrice 2D Z = F(x,y)\n",
    "    Z = np.array([[F(torch.tensor([x, y])) for x in xsteps] for y in ysteps])\n",
    "    \n",
    "    # Grilles X et Y créées à partir des vecteurs xsteps et ysteps\n",
    "    X, Y = np.meshgrid(xsteps, ysteps)\n",
    "    \n",
    "    # Affichage des lignes de niveaux (contours)\n",
    "    plt.contour(X, Y, Z, levels=np.arange(Z.min(), Z.max(), 0.05 * (Z.max() - Z.min())), cmap='hot')\n",
    "    plt.xlabel('x')\n",
    "    plt.ylabel('y')\n",
    "    plt.title('Lignes de niveau de F (contours)')"
   ]
  },
  {
   "cell_type": "markdown",
   "metadata": {},
   "source": [
    "**Définition et affichage d'une fonction \"F\" un peu compliquée à minimiser**"
   ]
  },
  {
   "cell_type": "code",
   "execution_count": null,
   "metadata": {
    "scrolled": false
   },
   "outputs": [],
   "source": [
    "def F(x):\n",
    "    # Fonction F(x,y) = sin(x+1.1) + sin(y) + 0.4*(|x|-2.5 + |y|+0.5)\n",
    "    return torch.sin(x[0]+1.1) + torch.sin(x[1]) + 0.4*(torch.abs(x[0]-2.5) + torch.abs(x[1]+0.5))\n",
    "\n",
    "# Affichage des lignes de niveaux (contours)\n",
    "plot_with_contours(F)"
   ]
  },
  {
   "cell_type": "markdown",
   "metadata": {},
   "source": [
    "**Ecriture de la boucle itérative de descente du gradient**"
   ]
  },
  {
   "cell_type": "code",
   "execution_count": null,
   "metadata": {},
   "outputs": [],
   "source": [
    "# Point initial (tester différentes valeurs)\n",
    "# Noter que l'on manipule des objets de type Tensor\n",
    "x = torch.tensor([0., 0.])\n",
    "\n",
    "# Taux d'apprentissage (tester différentes valeurs)\n",
    "learning_rate = 0.1cd\n",
    "\n",
    "# Nombre maximum d'itérations\n",
    "it_max = 100\n",
    "\n",
    "# Liste pour garder les différentes valeurs de la fonction objectif F à chaque itération\n",
    "objectives = []\n",
    "\n",
    "# Liste pour garder les différentes valeurs du couple (x,y) à chaque itération\n",
    "points = []\n",
    "\n",
    "# Descente de gradient à effectuer \"it_max\" fois\n",
    "for it in range(it_max):\n",
    "    \n",
    "    # Convertir le Tensor en simple couple numérique de points (x,y) et l'ajouter dans la liste \"points\"\n",
    "    points.append(x.numpy())\n",
    "    \n",
    "    # (R)ajouter la dépendance au gradient à \"vrai\" pour pouvoir calculer le gradient de F par rapport à x\n",
    "    x.requires_grad = True\n",
    "    \n",
    "    # Appeller la fonction F en (x,y) à l'itération courante\n",
    "    Z = F(x)\n",
    "    \n",
    "    # Afficher la valeur de F \n",
    "    # Noter que .item() permet de ne récupérer que la valeur numérique de l'objet Z qui est un Tensor \n",
    "    # ayant hérité d'une fonction permettant de calculer le gradient par rapport à x\n",
    "    # Si le Tensor n'est pas pas scalaire, il faut utiliser .detach().numpy() au lieu de .item()\n",
    "    print('Iteration', it+1, '> F =', \"%.5f\" % Z.item())\n",
    "    \n",
    "    # Ajouter la valeur numérique courante de F(x,y) dans \"objectives\"\n",
    "    objectives.append(Z.item())\n",
    "    \n",
    "    # Calculer le gradient de F par rapport à x\n",
    "    Z.backward()    \n",
    "    \n",
    "    # Mettre à jour la solution courante (x,y)\n",
    "    # Noter que le calcul n'est possible qu'avec des Tensor qui n'ont pas de dépendance comme \"requires_grad\" par exemple\n",
    "    # Afin d'enlever le \"requires_grad\", on le détache de x avec x.detach()\n",
    "    # La sortie x ici n'a plus de dépendance avec \"requires_grad\", ce n'est plus qu'un simple Tensor\n",
    "    x = x.detach() - learning_rate*x.grad"
   ]
  },
  {
   "cell_type": "markdown",
   "metadata": {},
   "source": [
    "**Affichage des résultats**"
   ]
  },
  {
   "cell_type": "code",
   "execution_count": null,
   "metadata": {},
   "outputs": [],
   "source": [
    "# Afficher les itérés de F\n",
    "plt.plot(objectives)\n",
    "plt.xlabel('itérations')\n",
    "plt.ylabel('fonction F')"
   ]
  },
  {
   "cell_type": "code",
   "execution_count": null,
   "metadata": {},
   "outputs": [],
   "source": [
    "# Transformer la liste \"points\" en tableau\n",
    "points = np.array(points)\n",
    "\n",
    "# Afficher les lignes de niveaux (contours)\n",
    "plot_with_contours(F)\n",
    "\n",
    "# Afficher les itérés des couples (x,y)\n",
    "plt.plot(points[:, 0], points[:, 1], 'bo-')"
   ]
  },
  {
   "cell_type": "markdown",
   "metadata": {},
   "source": [
    "**Questions**\n",
    "\n",
    "- La solution trouvée est-elle un minimum global ou local de la fonction F ?\n",
    "\n",
    "- Tester différents points initiaux pour $\\mathbf{x}_0$.\n",
    "\n",
    "- Tester différents taux d'apprentissage (par exemple 1 ou 0.01). Qu'observez vous ?\n"
   ]
  }
 ],
 "metadata": {
  "accelerator": "GPU",
  "colab": {
   "collapsed_sections": [],
   "default_view": {},
   "name": "autograd_tutorial.ipynb",
   "provenance": [],
   "version": "0.3.2",
   "views": {}
  },
  "kernelspec": {
   "display_name": "Python 3",
   "language": "python",
   "name": "python3"
  },
  "language_info": {
   "codemirror_mode": {
    "name": "ipython",
    "version": 3
   },
   "file_extension": ".py",
   "mimetype": "text/x-python",
   "name": "python",
   "nbconvert_exporter": "python",
   "pygments_lexer": "ipython3",
   "version": "3.6.8"
  }
 },
 "nbformat": 4,
 "nbformat_minor": 1
}
