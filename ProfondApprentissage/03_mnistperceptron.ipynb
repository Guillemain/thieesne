{
 "cells": [
  {
   "cell_type": "markdown",
   "metadata": {
    "colab_type": "text",
    "id": "s3HEscT9AUzR"
   },
   "source": [
    "# Exercice 3 - Entraînement d'un classifieur\n",
    "\n",
    "Vous avez vu comment mettre en place une descente de gradient stochastique ; il est temps maintenant de créer un réseau de neurones et de l'entraîner.\n",
    "\n",
    "## Quid des données ?\n",
    "\n",
    "En général, pour traiter des images, du texte, du son ou de la vidéo, il est possible d'utiliser des packages python standards pour charger les données dans un tableau numpy. On peut ensuite convertir ce tableau en tenseur ``torch.*Tensor``.\n",
    "\n",
    "En traitement d'image, il existe un package appelé ``torchvision``, qui permet de charger des bases de données standard, telles que CIFAR10, ImageNet, MNIST, etc..\n",
    "\n",
    "Dans ce TP, nous utiliserons le dataset MNIST, que vous avez déjà manipulé en Analyse de Données en première année. Les images MNIST sont des images en niveaux de gris, de taille 28x28 pixels, représentant des chiffres manuscrits de 0 à 9.\n",
    "\n",
    "![mnist](http://i.ytimg.com/vi/0QI3xgXuB-Q/hqdefault.jpg)\n",
    "   \n",
    "## Entraînement d'un classifieur d'image\n",
    "\n",
    "Nous suivrons les étapes suivantes :\n",
    "1. Chargement et préparation des données d'entraînement et de test de la base de données MNIST.\n",
    "2. Définition d'un simple perceptron monocouche\n",
    "3. Définition d'une fonction de coût\n",
    "4. Entraînement du perceptron sur les données d'entraînement\n",
    "5. Test du perceptron sur les données de test\n",
    "\n",
    "## 1. Chargement et préparation des données\n",
    "\n",
    "On peut charger les données MNIST en utilisant le package ``torchvision``."
   ]
  },
  {
   "cell_type": "code",
   "execution_count": 2,
   "metadata": {
    "colab": {
     "autoexec": {
      "startup": false,
      "wait_interval": 0
     }
    },
    "colab_type": "code",
    "id": "MyVQ2x32AU9W"
   },
   "outputs": [],
   "source": [
    "# Inclure les fonction d'affichage \"print\"\n",
    "from __future__ import print_function\n",
    "# Inclure numpy abrégée np\n",
    "import numpy as np\n",
    "# Inclure les fonction d'affichage \"plot\" abrégée plt\n",
    "from matplotlib import pyplot as plt\n",
    "# Inclure torch\n",
    "import torch\n",
    "# Inclure torchvision\n",
    "import torchvision\n",
    "# Inclure torchvision.transforms abrégé transforms\n",
    "import torchvision.transforms as transforms\n",
    "# Inclure Variable\n",
    "from torch.autograd import Variable\n",
    "\n",
    "# %matplotlib inline"
   ]
  },
  {
   "cell_type": "markdown",
   "metadata": {
    "colab_type": "text",
    "id": "y4qoFUrXAVEJ"
   },
   "source": [
    "On souhaite convertir en tenseurs et normaliser dans l'intervalle [-1, 1] les images que l'on va charger."
   ]
  },
  {
   "cell_type": "code",
   "execution_count": 3,
   "metadata": {
    "colab": {
     "autoexec": {
      "startup": false,
      "wait_interval": 0
     }
    },
    "colab_type": "code",
    "id": "RfW-grDtAVL2",
    "scrolled": true
   },
   "outputs": [],
   "source": [
    "# Déclaration de 'transform' pour convertir en tenseur et normaliser\n",
    "transform = transforms.Compose(\n",
    "    [transforms.ToTensor(), # Conversion en tenseur\n",
    "     transforms.Normalize((0.5, 0.5, 0.5), (0.5, 0.5, 0.5))]) # Normalisation"
   ]
  },
  {
   "cell_type": "markdown",
   "metadata": {},
   "source": [
    "**Téléchargement des données MNIST sur le disque**"
   ]
  },
  {
   "cell_type": "code",
   "execution_count": null,
   "metadata": {},
   "outputs": [],
   "source": []
  },
  {
   "cell_type": "code",
   "execution_count": 4,
   "metadata": {},
   "outputs": [],
   "source": [
    "# Base de données d'entraînement\n",
    "trainset = torchvision.datasets.MNIST(root='~/../../mnt/n7fs/ens/tp_carlier/data', train=True, download=True, transform=transform)\n",
    "# Version hors réseau N7 : A UTILISER SUR VOTRE MACHINE PERSONNELLE (va télécharger les données)\n",
    "# trainset = torchvision.datasets.MNIST(root='./data', train=True, download=True, transform=transform)\n",
    "\n",
    "# Base de données de test\n",
    "testset = torchvision.datasets.MNIST(root='~/../../mnt/n7fs/ens/tp_carlier/data', train=False, download=True, transform=transform)\n",
    "# Version hors réseau N7 : A UTILISER SUR VOTRE MACHINE PERSONNELLE (va télécharger les données)\n",
    "# testset = torchvision.datasets.MNIST(root='./data', train=False, download=True, transform=transform)\n",
    "\n",
    "# Définition des 10 noms de classes (chiffres)\n",
    "class_names = ('zero', 'one', 'two', 'three', 'four', 'five', 'six', 'seven', 'eight', 'nine')"
   ]
  },
  {
   "cell_type": "markdown",
   "metadata": {
    "colab_type": "text",
    "id": "hqWXRKgkAVS6"
   },
   "source": [
    "**Définition de la fonction 'show_image' pour afficher les images**"
   ]
  },
  {
   "cell_type": "code",
   "execution_count": 5,
   "metadata": {},
   "outputs": [],
   "source": [
    "def show_image(im, classno):\n",
    "    \n",
    "    # Remettre en forme de l'image entre 0 et 1 avec la bonne taille\n",
    "    im_npy = im.numpy().transpose(1, 2, 0) * 0.5 + 0.5\n",
    "    \n",
    "    # Affecter le nom de classe de l'image comme titre \n",
    "    plt.title(class_names[classno])\n",
    "    \n",
    "    # Afficher l'image en niveaux de gris\n",
    "    plt.imshow(im_npy[:,:,0], cmap='gray') \n",
    "    \n",
    "    # Masquer les axes\n",
    "    plt.axis('off')"
   ]
  },
  {
   "cell_type": "markdown",
   "metadata": {},
   "source": [
    "**Visualisation d'une image de l'ensemble d'apprentissage**"
   ]
  },
  {
   "cell_type": "code",
   "execution_count": 13,
   "metadata": {},
   "outputs": [
    {
     "data": {
      "text/plain": [
       "tensor([[[-1.0000, -1.0000, -1.0000, -1.0000, -1.0000, -1.0000, -1.0000,\n",
       "          -1.0000, -1.0000, -1.0000, -1.0000, -1.0000, -1.0000, -1.0000,\n",
       "          -1.0000, -1.0000, -1.0000, -1.0000, -1.0000, -1.0000, -1.0000,\n",
       "          -1.0000, -1.0000, -1.0000, -1.0000, -1.0000, -1.0000, -1.0000],\n",
       "         [-1.0000, -1.0000, -1.0000, -1.0000, -1.0000, -1.0000, -1.0000,\n",
       "          -1.0000, -1.0000, -1.0000, -1.0000, -1.0000, -1.0000, -1.0000,\n",
       "          -1.0000, -1.0000, -1.0000, -1.0000, -1.0000, -1.0000, -1.0000,\n",
       "          -1.0000, -1.0000, -1.0000, -1.0000, -1.0000, -1.0000, -1.0000],\n",
       "         [-1.0000, -1.0000, -1.0000, -1.0000, -1.0000, -1.0000, -1.0000,\n",
       "          -1.0000, -1.0000, -1.0000, -1.0000, -1.0000, -1.0000, -1.0000,\n",
       "          -1.0000, -1.0000, -1.0000, -1.0000, -1.0000, -1.0000, -1.0000,\n",
       "          -1.0000, -1.0000, -1.0000, -1.0000, -1.0000, -1.0000, -1.0000],\n",
       "         [-1.0000, -1.0000, -1.0000, -1.0000, -1.0000, -1.0000, -1.0000,\n",
       "          -1.0000, -1.0000, -1.0000, -1.0000, -1.0000, -1.0000, -1.0000,\n",
       "          -1.0000, -1.0000, -1.0000, -1.0000, -1.0000, -1.0000, -1.0000,\n",
       "          -1.0000, -1.0000, -1.0000, -1.0000, -1.0000, -1.0000, -1.0000],\n",
       "         [-1.0000, -1.0000, -1.0000, -1.0000, -1.0000, -1.0000, -1.0000,\n",
       "          -1.0000, -1.0000, -1.0000, -0.9216, -0.3804,  0.1059,  0.1059,\n",
       "           0.7961,  0.9843,  0.8980, -0.0902, -0.8510, -1.0000, -1.0000,\n",
       "          -1.0000, -1.0000, -1.0000, -1.0000, -1.0000, -1.0000, -1.0000],\n",
       "         [-1.0000, -1.0000, -1.0000, -1.0000, -1.0000, -1.0000, -1.0000,\n",
       "          -1.0000, -1.0000, -0.5059,  0.5451,  0.9765,  0.9843,  0.9765,\n",
       "           0.9765,  0.9765,  0.9843,  0.9765,  0.7569,  0.3255, -1.0000,\n",
       "          -1.0000, -1.0000, -1.0000, -1.0000, -1.0000, -1.0000, -1.0000],\n",
       "         [-1.0000, -1.0000, -1.0000, -1.0000, -1.0000, -1.0000, -1.0000,\n",
       "          -1.0000, -0.9216,  0.5451,  0.9765,  0.9765,  0.9843,  0.9765,\n",
       "           0.9765,  0.9765,  0.9843,  0.9765,  0.9765,  0.9765,  0.4510,\n",
       "          -0.7804, -1.0000, -1.0000, -1.0000, -1.0000, -1.0000, -1.0000],\n",
       "         [-1.0000, -1.0000, -1.0000, -1.0000, -1.0000, -1.0000, -1.0000,\n",
       "          -1.0000, -0.7725,  0.3882, -0.1922,  0.3961,  0.9843,  0.9765,\n",
       "           0.9765,  0.9765,  0.9843,  0.7804,  0.0902,  0.8824,  0.9843,\n",
       "          -0.3412, -1.0000, -1.0000, -1.0000, -1.0000, -1.0000, -1.0000],\n",
       "         [-1.0000, -1.0000, -1.0000, -1.0000, -1.0000, -1.0000, -1.0000,\n",
       "          -1.0000, -1.0000, -0.9451,  0.2078,  0.9843,  1.0000,  0.9843,\n",
       "           0.9137, -0.0196, -0.1059, -0.7020, -1.0000, -0.2078,  1.0000,\n",
       "           0.7882, -0.6549, -1.0000, -1.0000, -1.0000, -1.0000, -1.0000],\n",
       "         [-1.0000, -1.0000, -1.0000, -1.0000, -1.0000, -1.0000, -1.0000,\n",
       "          -1.0000, -1.0000,  0.0275,  0.9765,  0.9765,  0.7412,  0.5373,\n",
       "           0.0196, -1.0000, -1.0000, -1.0000, -1.0000, -1.0000,  0.9843,\n",
       "           0.9765,  0.3176, -1.0000, -1.0000, -1.0000, -1.0000, -1.0000],\n",
       "         [-1.0000, -1.0000, -1.0000, -1.0000, -1.0000, -1.0000, -1.0000,\n",
       "          -1.0000, -0.8196,  0.8353,  0.9765,  0.9765, -0.8039, -1.0000,\n",
       "          -1.0000, -1.0000, -1.0000, -1.0000, -1.0000, -1.0000,  0.0039,\n",
       "           0.9765,  0.3176, -1.0000, -1.0000, -1.0000, -1.0000, -1.0000],\n",
       "         [-1.0000, -1.0000, -1.0000, -1.0000, -1.0000, -1.0000, -1.0000,\n",
       "          -1.0000,  0.4039,  0.9765,  0.9765,  0.1843, -1.0000, -1.0000,\n",
       "          -1.0000, -1.0000, -1.0000, -1.0000, -1.0000, -1.0000, -0.7725,\n",
       "           0.9765,  0.9059, -0.8039, -1.0000, -1.0000, -1.0000, -1.0000],\n",
       "         [-1.0000, -1.0000, -1.0000, -1.0000, -1.0000, -1.0000, -1.0000,\n",
       "          -0.4039,  0.9922,  0.9843,  0.6157, -0.8980, -1.0000, -1.0000,\n",
       "          -1.0000, -1.0000, -1.0000, -1.0000, -1.0000, -0.1059, -0.1843,\n",
       "           0.9843,  0.9843, -0.7804, -1.0000, -1.0000, -1.0000, -1.0000],\n",
       "         [-1.0000, -1.0000, -1.0000, -1.0000, -1.0000, -1.0000, -0.5529,\n",
       "           0.9059,  0.9843,  0.9765, -0.2706, -1.0000, -1.0000, -1.0000,\n",
       "          -1.0000, -1.0000, -1.0000, -1.0000, -1.0000, -0.7020,  0.9843,\n",
       "           0.9765,  0.8275, -0.8275, -1.0000, -1.0000, -1.0000, -1.0000],\n",
       "         [-1.0000, -1.0000, -1.0000, -1.0000, -1.0000, -1.0000, -0.3333,\n",
       "           0.9765,  0.9843,  0.3333, -0.8980, -1.0000, -1.0000, -1.0000,\n",
       "          -1.0000, -1.0000, -1.0000, -1.0000, -1.0000, -1.0000,  0.9843,\n",
       "           0.9765,  0.8353, -0.8275, -1.0000, -1.0000, -1.0000, -1.0000],\n",
       "         [-1.0000, -1.0000, -1.0000, -1.0000, -1.0000, -1.0000,  0.0510,\n",
       "           0.9765,  0.9843, -0.3412, -1.0000, -1.0000, -1.0000, -1.0000,\n",
       "          -1.0000, -1.0000, -1.0000, -1.0000, -1.0000, -0.2078,  0.9843,\n",
       "           0.9765,  0.3882, -0.9765, -1.0000, -1.0000, -1.0000, -1.0000],\n",
       "         [-1.0000, -1.0000, -1.0000, -1.0000, -1.0000, -0.9451,  0.6000,\n",
       "           0.9843,  0.8745, -0.7020, -1.0000, -1.0000, -1.0000, -1.0000,\n",
       "          -1.0000, -1.0000, -1.0000, -1.0000, -1.0000, -0.1059,  0.9922,\n",
       "           0.9843,  0.3176, -1.0000, -1.0000, -1.0000, -1.0000, -1.0000],\n",
       "         [-1.0000, -1.0000, -1.0000, -1.0000, -1.0000, -0.3569,  0.9765,\n",
       "           0.9765, -0.0196, -1.0000, -1.0000, -1.0000, -1.0000, -1.0000,\n",
       "          -1.0000, -1.0000, -1.0000, -1.0000, -1.0000,  0.4745,  0.9843,\n",
       "           0.9765,  0.3176, -1.0000, -1.0000, -1.0000, -1.0000, -1.0000],\n",
       "         [-1.0000, -1.0000, -1.0000, -1.0000, -0.9216,  0.5451,  0.9765,\n",
       "           0.9765, -1.0000, -1.0000, -1.0000, -1.0000, -1.0000, -1.0000,\n",
       "          -1.0000, -1.0000, -1.0000, -1.0000, -0.4745,  0.9294,  0.9843,\n",
       "           0.9765, -0.3725, -1.0000, -1.0000, -1.0000, -1.0000, -1.0000],\n",
       "         [-1.0000, -1.0000, -1.0000, -1.0000, -0.7725,  0.9765,  0.9765,\n",
       "           0.5843, -1.0000, -1.0000, -1.0000, -1.0000, -1.0000, -1.0000,\n",
       "          -1.0000, -1.0000, -1.0000, -1.0000, -0.6314,  0.8824,  0.9843,\n",
       "           0.1843, -0.9529, -1.0000, -1.0000, -1.0000, -1.0000, -1.0000],\n",
       "         [-1.0000, -1.0000, -1.0000, -1.0000, -0.7725,  0.9843,  0.9843,\n",
       "           0.2000, -1.0000, -1.0000, -1.0000, -1.0000, -1.0000, -1.0000,\n",
       "          -1.0000, -1.0000, -1.0000, -0.8510, -0.1843,  0.9843,  0.9922,\n",
       "          -0.3412, -1.0000, -1.0000, -1.0000, -1.0000, -1.0000, -1.0000],\n",
       "         [-1.0000, -1.0000, -1.0000, -1.0000, -0.9216,  0.5373,  0.9765,\n",
       "           0.9765,  0.3255,  0.3255,  0.3255,  0.3255,  0.3255, -0.2627,\n",
       "          -0.5529, -0.1608,  0.3255,  0.7647,  0.9765,  0.9765,  0.6392,\n",
       "          -0.7804, -1.0000, -1.0000, -1.0000, -1.0000, -1.0000, -1.0000],\n",
       "         [-1.0000, -1.0000, -1.0000, -1.0000, -1.0000,  0.0275,  0.9765,\n",
       "           0.9765,  0.9843,  0.9765,  0.9765,  0.9765,  0.9843,  0.9765,\n",
       "           0.9765,  0.9765,  0.9843,  0.9765,  0.9765,  0.9765, -0.8039,\n",
       "          -1.0000, -1.0000, -1.0000, -1.0000, -1.0000, -1.0000, -1.0000],\n",
       "         [-1.0000, -1.0000, -1.0000, -1.0000, -1.0000, -0.9451, -0.0902,\n",
       "           0.0902,  0.9843,  0.9765,  0.9765,  0.9765,  0.9843,  0.7804,\n",
       "           0.3882,  0.9765,  0.0980,  0.0902,  0.0902, -0.6863, -1.0000,\n",
       "          -1.0000, -1.0000, -1.0000, -1.0000, -1.0000, -1.0000, -1.0000],\n",
       "         [-1.0000, -1.0000, -1.0000, -1.0000, -1.0000, -1.0000, -1.0000,\n",
       "          -1.0000, -1.0000, -1.0000, -1.0000, -1.0000, -1.0000, -1.0000,\n",
       "          -1.0000, -1.0000, -1.0000, -1.0000, -1.0000, -1.0000, -1.0000,\n",
       "          -1.0000, -1.0000, -1.0000, -1.0000, -1.0000, -1.0000, -1.0000],\n",
       "         [-1.0000, -1.0000, -1.0000, -1.0000, -1.0000, -1.0000, -1.0000,\n",
       "          -1.0000, -1.0000, -1.0000, -1.0000, -1.0000, -1.0000, -1.0000,\n",
       "          -1.0000, -1.0000, -1.0000, -1.0000, -1.0000, -1.0000, -1.0000,\n",
       "          -1.0000, -1.0000, -1.0000, -1.0000, -1.0000, -1.0000, -1.0000],\n",
       "         [-1.0000, -1.0000, -1.0000, -1.0000, -1.0000, -1.0000, -1.0000,\n",
       "          -1.0000, -1.0000, -1.0000, -1.0000, -1.0000, -1.0000, -1.0000,\n",
       "          -1.0000, -1.0000, -1.0000, -1.0000, -1.0000, -1.0000, -1.0000,\n",
       "          -1.0000, -1.0000, -1.0000, -1.0000, -1.0000, -1.0000, -1.0000],\n",
       "         [-1.0000, -1.0000, -1.0000, -1.0000, -1.0000, -1.0000, -1.0000,\n",
       "          -1.0000, -1.0000, -1.0000, -1.0000, -1.0000, -1.0000, -1.0000,\n",
       "          -1.0000, -1.0000, -1.0000, -1.0000, -1.0000, -1.0000, -1.0000,\n",
       "          -1.0000, -1.0000, -1.0000, -1.0000, -1.0000, -1.0000, -1.0000]]])"
      ]
     },
     "execution_count": 13,
     "metadata": {},
     "output_type": "execute_result"
    },
    {
     "data": {
      "image/png": "[encoded data removed]",
      "text/plain": [
       "<Figure size 432x288 with 1 Axes>"
      ]
     },
     "metadata": {
      "needs_background": "light"
     },
     "output_type": "display_data"
    }
   ],
   "source": [
    "# Récupérer l'image 3830 de l'ensemble d'entraînement par exemple (avec son numéro de classe)\n",
    "im, classno = trainset[3829]\n",
    "\n",
    "# Afficher l'image 3830 de l'ensemble d'entraînement\n",
    "show_image(im, classno)\n",
    "im\n"
   ]
  },
  {
   "cell_type": "markdown",
   "metadata": {
    "colab_type": "text",
    "id": "Uehjn84qAVh2"
   },
   "source": [
    "## 2. Définition d'un perceptron\n",
    "\n",
    "Voici ici la définition d'un réseau de neurones simpliste qui connecte une couche d'entrée et une couche de sortie."
   ]
  },
  {
   "cell_type": "code",
   "execution_count": 82,
   "metadata": {
    "colab": {
     "autoexec": {
      "startup": false,
      "wait_interval": 0
     }
    },
    "colab_type": "code",
    "id": "B5lZNfRsAVpT"
   },
   "outputs": [],
   "source": [
    "# Inclure torch.nn abrégé nn\n",
    "import torch.nn as nn\n",
    "# Inclure torch.nn.functional abrégé F\n",
    "import torch.nn.functional as F\n",
    "\n",
    "# Déclaration de la classe pour le réseau de neurones\n",
    "class Net(nn.Module):\n",
    "    def __init__(self):\n",
    "        super(Net, self).__init__()\n",
    "        self.fc0 = nn.Linear(784, 100) # Transformation linéaire (nb entrée, nb sorties)\n",
    "        # A FAIRE ----------------------------------------------------------------------------------------\n",
    "        # Ajouter différentes couches dans le réseau\n",
    "        #-------------------------------------------------------------------------------------------------\n",
    "        self.fc1 = nn.Linear(100,70)\n",
    "        self.fc2 = nn.Linear(70,50)\n",
    "        self.fc3 = nn.Linear(50,30) \n",
    "        self.fc4 = nn.Linear(30,10) \n",
    "    def forward(self, x):\n",
    "        x = torch.squeeze(self.fc0(x))\n",
    "        # A FAIRE ------------------------------------------------------------\n",
    "        # Ajouter différentes couches dans le réseau --- Changer function ? \n",
    "        #-------------------------------------------------------------------------------------------------\n",
    "        x = torch.relu(self.fc1(x))\n",
    "        x = torch.relu(self.fc2(x))\n",
    "        x = torch.relu(self.fc3(x))\n",
    "        x = torch.relu(self.fc4(x))\n",
    "        \n",
    "        return x"
   ]
  },
  {
   "cell_type": "markdown",
   "metadata": {
    "colab_type": "text",
    "id": "qVk_dkWBAVxX"
   },
   "source": [
    "## 3. Défnition d'une fonction de coût et d'un Optimizer\n",
    "\n",
    "Comme vu en cours, on va utiliser l'entropie croisée comme fonction de coût pour ce problème de classification.\n",
    "Pour rappel, étant donné un vecteur `x` et un identifiant de classe `class`, la fonction de coût s'écrit :\n",
    "\n",
    "\\begin{equation}\n",
    "J(x,class) = -\\log \\, \\left(\\frac{e\\,^{x(class)}}{\\displaystyle\\sum_{j=1}^{\\#classes} e\\,^{x(j)}}\\right)\n",
    "            = -x(class) + \\log \\, \\left(\\displaystyle\\sum_{j=1}^{\\#classes} e\\,^{x(j)}\\right)\n",
    "\\end{equation}\n",
    "\n",
    "Comme Optimizer, on utilise la descente de gradient stochastique avec un momentum."
   ]
  },
  {
   "cell_type": "code",
   "execution_count": 83,
   "metadata": {
    "colab": {
     "autoexec": {
      "startup": false,
      "wait_interval": 0
     }
    },
    "colab_type": "code",
    "id": "EiZtMJFUAV7F"
   },
   "outputs": [],
   "source": [
    "# Inclure torch.optim abrégé optim\n",
    "import torch.optim as optim\n",
    "\n",
    "# Initialiser le réseau en appelant la classe 'Net'\n",
    "net = Net()\n",
    "\n",
    "# Choisir la fonction de coût entropie croisée\n",
    "criterion = nn.CrossEntropyLoss()\n",
    "\n",
    "# Choisir pour optimiseur le modèle de descente de gradient stochastique\n",
    "# L'optimiseur gère l'hyperparamètre de taux d'apprentissage \"lr\" (learning rate) et celui de mémoire\n",
    "optimizer = optim.SGD(net.parameters(), lr=0.01, momentum=0.9)"
   ]
  },
  {
   "cell_type": "markdown",
   "metadata": {
    "colab_type": "text",
    "id": "i51cuFV9AWCJ"
   },
   "source": [
    "## 4. Entraînement du réseau\n",
    "\n",
    "Le code est calqué sur les exemples précédents. On dispose d'un itérateur sur nos données, et à chaque itération on calcule la sortie du réseau pour nos données, on évalue la fonction de coût et l'on rétro-propage le gradient."
   ]
  },
  {
   "cell_type": "code",
   "execution_count": 84,
   "metadata": {},
   "outputs": [
    {
     "name": "stdout",
     "output_type": "stream",
     "text": [
      "[Epoch 1, après   200 mini-batches] > J = 1.955\n",
      "[Epoch 1, après   400 mini-batches] > J = 1.068\n",
      "[Epoch 1, après   600 mini-batches] > J = 0.724\n",
      "[Epoch 1, après   800 mini-batches] > J = 0.445\n",
      "[Epoch 1, après  1000 mini-batches] > J = 0.378\n",
      "[Epoch 1, après  1200 mini-batches] > J = 0.354\n",
      "[Epoch 1, après  1400 mini-batches] > J = 0.289\n",
      "[Epoch 1, après  1600 mini-batches] > J = 0.308\n",
      "[Epoch 1, après  1800 mini-batches] > J = 0.269\n",
      "[Epoch 2, après   200 mini-batches] > J = 0.237\n",
      "[Epoch 2, après   400 mini-batches] > J = 0.218\n",
      "[Epoch 2, après   600 mini-batches] > J = 0.225\n",
      "[Epoch 2, après   800 mini-batches] > J = 0.210\n",
      "[Epoch 2, après  1000 mini-batches] > J = 0.210\n",
      "[Epoch 2, après  1200 mini-batches] > J = 0.191\n",
      "[Epoch 2, après  1400 mini-batches] > J = 0.208\n",
      "[Epoch 2, après  1600 mini-batches] > J = 0.201\n",
      "[Epoch 2, après  1800 mini-batches] > J = 0.194\n",
      "[Epoch 3, après   200 mini-batches] > J = 0.162\n",
      "[Epoch 3, après   400 mini-batches] > J = 0.188\n",
      "[Epoch 3, après   600 mini-batches] > J = 0.163\n",
      "[Epoch 3, après   800 mini-batches] > J = 0.172\n",
      "[Epoch 3, après  1000 mini-batches] > J = 0.175\n",
      "[Epoch 3, après  1200 mini-batches] > J = 0.158\n",
      "[Epoch 3, après  1400 mini-batches] > J = 0.161\n",
      "[Epoch 3, après  1600 mini-batches] > J = 0.169\n",
      "[Epoch 3, après  1800 mini-batches] > J = 0.148\n",
      "[Epoch 4, après   200 mini-batches] > J = 0.142\n",
      "[Epoch 4, après   400 mini-batches] > J = 0.140\n",
      "[Epoch 4, après   600 mini-batches] > J = 0.132\n",
      "[Epoch 4, après   800 mini-batches] > J = 0.148\n",
      "[Epoch 4, après  1000 mini-batches] > J = 0.144\n",
      "[Epoch 4, après  1200 mini-batches] > J = 0.136\n",
      "[Epoch 4, après  1400 mini-batches] > J = 0.141\n",
      "[Epoch 4, après  1600 mini-batches] > J = 0.136\n",
      "[Epoch 4, après  1800 mini-batches] > J = 0.129\n",
      "[Epoch 5, après   200 mini-batches] > J = 0.120\n",
      "[Epoch 5, après   400 mini-batches] > J = 0.131\n",
      "[Epoch 5, après   600 mini-batches] > J = 0.116\n",
      "[Epoch 5, après   800 mini-batches] > J = 0.108\n",
      "[Epoch 5, après  1000 mini-batches] > J = 0.118\n",
      "[Epoch 5, après  1200 mini-batches] > J = 0.123\n",
      "[Epoch 5, après  1400 mini-batches] > J = 0.122\n",
      "[Epoch 5, après  1600 mini-batches] > J = 0.132\n",
      "[Epoch 5, après  1800 mini-batches] > J = 0.118\n",
      "[Epoch 6, après   200 mini-batches] > J = 0.110\n",
      "[Epoch 6, après   400 mini-batches] > J = 0.108\n",
      "[Epoch 6, après   600 mini-batches] > J = 0.103\n",
      "[Epoch 6, après   800 mini-batches] > J = 0.107\n",
      "[Epoch 6, après  1000 mini-batches] > J = 0.108\n",
      "[Epoch 6, après  1200 mini-batches] > J = 0.112\n",
      "[Epoch 6, après  1400 mini-batches] > J = 0.113\n",
      "[Epoch 6, après  1600 mini-batches] > J = 0.122\n",
      "[Epoch 6, après  1800 mini-batches] > J = 0.125\n",
      "[Epoch 7, après   200 mini-batches] > J = 0.103\n",
      "[Epoch 7, après   400 mini-batches] > J = 0.092\n",
      "[Epoch 7, après   600 mini-batches] > J = 0.110\n",
      "[Epoch 7, après   800 mini-batches] > J = 0.096\n",
      "[Epoch 7, après  1000 mini-batches] > J = 0.114\n",
      "[Epoch 7, après  1200 mini-batches] > J = 0.110\n",
      "[Epoch 7, après  1400 mini-batches] > J = 0.094\n",
      "[Epoch 7, après  1600 mini-batches] > J = 0.105\n",
      "[Epoch 7, après  1800 mini-batches] > J = 0.111\n",
      "Entraînement terminé\n"
     ]
    }
   ],
   "source": [
    "# Objet qui définit un itérateur sur la base de données, en extrayant des mini-batches dans un ordre aléatoire\n",
    "trainloader = torch.utils.data.DataLoader(trainset, batch_size=32, shuffle=True, num_workers=2)\n",
    "\n",
    "# Le nombre d'epochs maximal définit le nombre de passages complets sur la base de données d'entraînement\n",
    "epoch_max = 7\n",
    "for epoch in range(epoch_max):\n",
    "\n",
    "    # On ne va afficher le risque empirique que tous les 200 mini-batches\n",
    "    running_J = 0.0\n",
    "    \n",
    "    for i, data in enumerate(trainloader):\n",
    "        \n",
    "        # Récupération les données d'entrée (mini-batch)\n",
    "        inputs, labels = data\n",
    "        \n",
    "        # Vectorisation des images pour les fournir en entrée du réseau\n",
    "        # Noter que la première dimension de 'images' correspond aux nombres d'images, la seconde au nombre de canaux \n",
    "        # par images, et ce sont seulement les 3ème et 4ème qui correspondent aux dimensions spatiales d'une image\n",
    "        inputs = inputs.reshape(inputs.shape[0],inputs.shape[1],inputs.shape[2]*inputs.shape[3])      \n",
    "\n",
    "        # Remise à zéro des gradients\n",
    "        optimizer.zero_grad()\n",
    "\n",
    "        # Passe \"forward\" pour calculer la prédiction du réseau \n",
    "        outputs = net(inputs)\n",
    "        \n",
    "        # Calculer la fonction objectif J pour un mini-batch (fonction de coût)\n",
    "        J = criterion(outputs, labels)\n",
    "        \n",
    "        # Rétro-propagation du gradient\n",
    "        J.backward()\n",
    "        optimizer.step()\n",
    "\n",
    "        # Incrémenter la valeur de la fonction objectif globale\n",
    "        running_J += J.item()\n",
    "\n",
    "        # Afficher les statistiques tous les 200 mini-batches\n",
    "        if (i+1) % 200 == 0:\n",
    "            print('[Epoch %d, après %5d mini-batches] > J = %.3f' % (epoch+1, i+1, running_J / 200))\n",
    "            running_J = 0.0\n",
    "\n",
    "print('Entraînement terminé')"
   ]
  },
  {
   "cell_type": "markdown",
   "metadata": {
    "colab_type": "text",
    "id": "HRtrIOjqAWRN"
   },
   "source": [
    "### 5. Test du réseau sur les données de test\n",
    "\n",
    "Nous avons entraîné le réseau de neurones en faisant 2 passes sur l'ensemble\n",
    "d'entraînement complet. Nous allons maintenant vérifier ce que le réseau a\n",
    "appris.\n",
    "\n",
    "Pour ce faire, nous allons prédire la classe des données de test et comparer\n",
    "ces prédictions à la vérité terrain.\n",
    "\n",
    "Commençons par afficher des données de test."
   ]
  },
  {
   "cell_type": "code",
   "execution_count": null,
   "metadata": {},
   "outputs": [],
   "source": [
    "# Récupérer l'image 1 de l'ensemble de test (avec son numéro de classe)\n",
    "im, classno = testset[0]\n",
    "\n",
    "# Afficher l'image 1 de l'ensemble de test\n",
    "#show_image(im, classno)"
   ]
  },
  {
   "cell_type": "markdown",
   "metadata": {},
   "source": [
    "**Utilisation du réseau sur mini-batch de l'ensemble de test**"
   ]
  },
  {
   "cell_type": "code",
   "execution_count": null,
   "metadata": {},
   "outputs": [],
   "source": [
    "# Initialiser les variables contenant les images et les numéros de classe du mini-batch que l'on va créer\n",
    "images = []\n",
    "gt_labels = []\n",
    "\n",
    "# Construire un mini-batch avec les 10 premières images de l'ensemble de test\n",
    "for i in range(10):\n",
    "    \n",
    "    # Récupérer l'image i de l'ensemble de test (avec son numéro de classe)\n",
    "    im, classno = testset[i]\n",
    "    \n",
    "    # Ajouter l'image i dans 'images'\n",
    "    images.append(im)\n",
    "    \n",
    "    # Ajouter le numéro de la classe de l'image i dans 'gt_labels'\n",
    "    gt_labels.append(classno)\n",
    "    \n",
    "    # Afficher l'image i (avec une nouvelle figure à chaque image)\n",
    "    show_image(im, classno)\n",
    "    plt.show()\n",
    "    \n",
    "# Transformer 'images' de liste en tableau 3D et de 'gt_labels' de liste en vecteur\n",
    "images = torch.stack(images)\n",
    "gt_labels = torch.stack(gt_labels)"
   ]
  },
  {
   "cell_type": "markdown",
   "metadata": {},
   "source": [
    "Voyons maintenant quelles classes sont prédites par le réseau pour ces données."
   ]
  },
  {
   "cell_type": "code",
   "execution_count": null,
   "metadata": {
    "colab": {
     "autoexec": {
      "startup": false,
      "wait_interval": 0
     }
    },
    "colab_type": "code",
    "id": "Uu1meLXfAWn7"
   },
   "outputs": [],
   "source": [
    "# Vectoriser les images\n",
    "# Noter que la première dimension de 'images' correspond aux nombres d'images, la seconde au nombre de canaux \n",
    "# par images, et ce sont seulement les 3ème et 4ème qui correspondent aux dimensions spatiales d'une image\n",
    "images_reshape = images.reshape(images.shape[0],images.shape[1],images.shape[2]*images.shape[3])\n",
    "\n",
    "# Passer les images dans le réseau\n",
    "outputs = net(images_reshape)\n",
    "\n",
    "# Afficher les énergies en sortie\n",
    "with np.printoptions(precision=2, suppress=True):\n",
    "    print(outputs.detach().numpy())"
   ]
  },
  {
   "cell_type": "markdown",
   "metadata": {
    "colab_type": "text",
    "id": "mWAuJ7_2AWvv"
   },
   "source": [
    "Les sorties sont appelées les énergies de chaque classe.\n",
    "Plus l'énergie associée à une classe est élevée, plus le réseau \"pense\" que cette classe doit être associée à l'image d'entrée. On va donc chercher la classe de plus haute énergie pour chaque image."
   ]
  },
  {
   "cell_type": "code",
   "execution_count": null,
   "metadata": {
    "colab": {
     "autoexec": {
      "startup": false,
      "wait_interval": 0
     }
    },
    "colab_type": "code",
    "id": "dh3NvodZAW3z"
   },
   "outputs": [],
   "source": [
    "# Récupérer les indices des maxima d'énergies\n",
    "_, predicted = torch.max(outputs, 1)\n",
    "\n",
    "# Afficher les classes réelles et les classes estimées\n",
    "print('Classes réelles des 10 premières images test :')\n",
    "print([class_names[p] for p in gt_labels])\n",
    "print('Classes estimées par le réseau pour les 10 premières images test :')\n",
    "print([class_names[p] for p in predicted])"
   ]
  },
  {
   "cell_type": "markdown",
   "metadata": {
    "colab_type": "text",
    "id": "aCJRzpz5AW-9"
   },
   "source": [
    "Les résultats sont satisfaisants. Voyons maintenant comment le réseau performe sur bases de données de test dans son ensemble.\n",
    "\n",
    "**Utilisation du réseau sur tout l'ensemble de test**"
   ]
  },
  {
   "cell_type": "code",
   "execution_count": null,
   "metadata": {
    "colab": {
     "autoexec": {
      "startup": false,
      "wait_interval": 0
     }
    },
    "colab_type": "code",
    "id": "rAz5_LNwAXGy"
   },
   "outputs": [],
   "source": [
    "# Initialiser les compteurs du nombre d'images et de bonnes estimations\n",
    "total = 0\n",
    "correct = 0\n",
    "\n",
    "# On utilise à nouveau un DataLoader pour créer des batches de données de test\n",
    "testloader = torch.utils.data.DataLoader(testset, batch_size=16, shuffle=False, num_workers=2)\n",
    "\n",
    "# Estimation des classes pour des groupes de 16 images (taille du mini-batch)\n",
    "for data in testloader:\n",
    "    \n",
    "    # Récupérer 16 images\n",
    "    images, labels = data\n",
    "    \n",
    "    # Vectoriser les images \n",
    "    images = images.reshape(images.shape[0],images.shape[1],images.shape[2]*images.shape[3])\n",
    "    \n",
    "    # Passer les images dans le réseau\n",
    "    outputs = net(images)\n",
    "    \n",
    "    # Récupérer les indices des maxima d'énergies\n",
    "    _, predicted = torch.max(outputs, 1)\n",
    "    \n",
    "    # Incrémenter les compteurs\n",
    "    total += labels.size(0)\n",
    "    correct += (predicted == labels).sum().item()\n",
    "\n",
    "# Afficher la précision de l'estimation sur tout l'ensemble de test\n",
    "print('Précision du réseau sur les 10000 images de test : %2d %%' % (100.0 * correct / total))"
   ]
  },
  {
   "cell_type": "markdown",
   "metadata": {
    "colab_type": "text",
    "id": "LeMwcbWuAXNp"
   },
   "source": [
    "Les résultats montrent que le réseau a bien appris quelque chose ! Si le réseau prédisait les classes au hasard, il aurait statistiquement une précision d'environ 10%.\n",
    "\n",
    "On peut regarder les performances par classe, pour déterminer si certaines classes sont plus faciles à prédire que d'autres."
   ]
  },
  {
   "cell_type": "code",
   "execution_count": null,
   "metadata": {
    "colab": {
     "autoexec": {
      "startup": false,
      "wait_interval": 0
     }
    },
    "colab_type": "code",
    "id": "J1n13wzbAXVx"
   },
   "outputs": [],
   "source": [
    "# Initialiser 2 listes pour compter les images dans chaque classe\n",
    "class_total = list(0. for i in range(10))\n",
    "class_correct = list(0. for i in range(10))\n",
    "\n",
    "# Estimation des classes pour des groupes de 16 images (taille du mini-batch)\n",
    "for data in testloader:\n",
    "    \n",
    "    # Récupérer 16 images\n",
    "    images, labels = data\n",
    "    \n",
    "    # Vectoriser les images \n",
    "    images = images.reshape(images.shape[0],images.shape[1],images.shape[2]*images.shape[3])\n",
    "    \n",
    "    # Passer les images dans le réseau\n",
    "    outputs = net(images)\n",
    "    \n",
    "    # Récupérer les indices des maxima d'énergies\n",
    "    _, predicted = torch.max(outputs, 1)\n",
    "    \n",
    "    # Créer un vecteur binaire : 1 si le label estimé est le bon et 0 sinon\n",
    "    c = (predicted == labels)\n",
    "    \n",
    "    # Incrémenter les compteurs dans les listes image par image en fonction de la classe de celle-ci\n",
    "    for i in range(16):\n",
    "        label = labels[i]\n",
    "        class_correct[label] += c[i].item()\n",
    "        class_total[label] += 1\n",
    "\n",
    "# Afficher la précision de l'estimation sur tout l'ensemble de test pour chacune des classes        \n",
    "for i in range(10):\n",
    "    print('Précision de la classe %5s : %2d %%' % (class_names[i], 100 * class_correct[i] / class_total[i]))"
   ]
  },
  {
   "cell_type": "markdown",
   "metadata": {},
   "source": [
    "Profitez maintenant du reste de la séance pour essayer d'obtenir la plus haute précision possible. Pour cela, vous pouvez essayer : \n",
    "1. D'ajouter une ou plusieurs couches cachées. Essayez de faire varier le nombre de neurones dans ces couches cachées.\n",
    "2. Modifier les hyperparamètres : nombre d'epochs, taux d'apprentissage, momentum, etc.\n",
    "\n",
    "Vous devriez obtenir sans trop de difficultés une précision supérieure à 95% !"
   ]
  }
 ],
 "metadata": {
  "accelerator": "GPU",
  "colab": {
   "collapsed_sections": [],
   "default_view": {},
   "name": "cifar10_tutorial.ipynb",
   "provenance": [],
   "version": "0.3.2",
   "views": {}
  },
  "kernelspec": {
   "display_name": "Python 3",
   "language": "python",
   "name": "python3"
  },
  "language_info": {
   "codemirror_mode": {
    "name": "ipython",
    "version": 3
   },
   "file_extension": ".py",
   "mimetype": "text/x-python",
   "name": "python",
   "nbconvert_exporter": "python",
   "pygments_lexer": "ipython3",
   "version": "3.6.8"
  }
 },
 "nbformat": 4,
 "nbformat_minor": 1
}
