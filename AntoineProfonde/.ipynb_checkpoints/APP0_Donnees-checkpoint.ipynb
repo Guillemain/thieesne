{
 "cells": [
  {
   "cell_type": "code",
   "execution_count": 1,
   "metadata": {
    "colab": {
     "autoexec": {
      "startup": false,
      "wait_interval": 0
     }
    },
    "colab_type": "code",
    "id": "MyVQ2x32AU9W"
   },
   "outputs": [],
   "source": [
    "# Inclure torch\n",
    "import torch\n",
    "# Inclure torchvision\n",
    "import torchvision\n",
    "# Inclure torchvision.transforms abrégé transforms\n",
    "import torchvision.transforms as transforms"
   ]
  },
  {
   "cell_type": "code",
   "execution_count": 2,
   "metadata": {
    "colab": {
     "autoexec": {
      "startup": false,
      "wait_interval": 0
     }
    },
    "colab_type": "code",
    "id": "RfW-grDtAVL2"
   },
   "outputs": [
    {
     "name": "stdout",
     "output_type": "stream",
     "text": [
      "Files already downloaded and verified\n",
      "Files already downloaded and verified\n"
     ]
    }
   ],
   "source": [
    "# Déclaration de 'transform' pour convertir en tenseur et normaliser\n",
    "transform = transforms.Compose(\n",
    "    [transforms.ToTensor(), # Conversion en tenseur\n",
    "     transforms.Normalize((0.5, 0.5, 0.5), (0.5, 0.5, 0.5))]) # Normalisation\n",
    "\n",
    "# Base de données d'entraînement\n",
    "trainset = torchvision.datasets.CIFAR10(root='~/../../mnt/n7fs/ens/tp_carlier/data', train=True, download=True, transform=transform)\n",
    "# Version hors réseau N7 : A UTILISER SUR VOTRE MACHINE PERSONNELLE (va télécharger les données)\n",
    "# trainset = torchvision.datasets.CIFAR10(root='./data', train=True, download=True, transform=transform)\n",
    "\n",
    "# Base de données de test\n",
    "testset = torchvision.datasets.CIFAR10(root='~/../../mnt/n7fs/ens/tp_carlier/data', train=False, download=True, transform=transform)\n",
    "# Version hors réseau N7 : A UTILISER SUR VOTRE MACHINE PERSONNELLE (va télécharger les données)\n",
    "# testset = torchvision.datasets.CIFAR10(root='./data', train=False, download=True, transform=transform)"
   ]
  },
  {
   "cell_type": "code",
   "execution_count": null,
   "metadata": {},
   "outputs": [],
   "source": []
  }
 ],
 "metadata": {
  "accelerator": "GPU",
  "colab": {
   "collapsed_sections": [],
   "default_view": {},
   "name": "cifar10_tutorial.ipynb",
   "provenance": [],
   "version": "0.3.2",
   "views": {}
  },
  "kernelspec": {
   "display_name": "Python 3",
   "language": "python",
   "name": "python3"
  },
  "language_info": {
   "codemirror_mode": {
    "name": "ipython",
    "version": 3
   },
   "file_extension": ".py",
   "mimetype": "text/x-python",
   "name": "python",
   "nbconvert_exporter": "python",
   "pygments_lexer": "ipython3",
   "version": "3.6.8"
  }
 },
 "nbformat": 4,
 "nbformat_minor": 1
}
